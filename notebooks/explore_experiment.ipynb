{
 "cells": [
  {
   "cell_type": "code",
   "execution_count": null,
   "metadata": {},
   "outputs": [],
   "source": [
    "import os\n",
    "os.chdir('..')"
   ]
  },
  {
   "cell_type": "markdown",
   "metadata": {},
   "source": [
    "## Evaluating Experiments -- The Visualiser"
   ]
  },
  {
   "cell_type": "markdown",
   "metadata": {},
   "source": [
    "This notebook guides you through the evaluation of a custom experiment.\n",
    "\n",
    "The `Visualiser` is the main class that will us help achieve this."
   ]
  },
  {
   "cell_type": "code",
   "execution_count": null,
   "metadata": {},
   "outputs": [],
   "source": [
    "from activetesting.visualize import Visualiser\n",
    "\n",
    "%load_ext autoreload\n",
    "%autoreload 2"
   ]
  },
  {
   "cell_type": "markdown",
   "metadata": {},
   "source": [
    "Let's say you have run the experiment\n",
    "```\n",
    "python main.py +paper=SyntheticGPGP\n",
    "```\n",
    "which logs to\n",
    "```\n",
    "outputs/final/SyntheticGPGP\n",
    "```\n",
    "\n",
    "You can load the results for this experiment with"
   ]
  },
  {
   "cell_type": "code",
   "execution_count": null,
   "metadata": {},
   "outputs": [],
   "source": [
    "vis = Visualiser('outputs/final/SyntheticGPGP')"
   ]
  },
  {
   "cell_type": "markdown",
   "metadata": {},
   "source": [
    "The visualiser then has loads of things for you to look at.\n",
    "\n",
    "General information about the run:"
   ]
  },
  {
   "cell_type": "code",
   "execution_count": null,
   "metadata": {},
   "outputs": [],
   "source": [
    "vis.config()"
   ]
  },
  {
   "cell_type": "code",
   "execution_count": null,
   "metadata": {},
   "outputs": [],
   "source": [
    "vis.n_runs"
   ]
  },
  {
   "cell_type": "code",
   "execution_count": null,
   "metadata": {},
   "outputs": [],
   "source": [
    "vis.acquisitions"
   ]
  },
  {
   "cell_type": "code",
   "execution_count": null,
   "metadata": {},
   "outputs": [],
   "source": [
    "vis.risks"
   ]
  },
  {
   "cell_type": "markdown",
   "metadata": {},
   "source": [
    "(Note that $\\hat{R}_{\\text{LURE}} = $ `FancyUnbiasedRiskEstimator` and that $\\hat{R}_{\\text{iid}} = $ `BiasedRiskEstimator`.)"
   ]
  },
  {
   "cell_type": "markdown",
   "metadata": {},
   "source": [
    "You can also have a look at the data for the first few runs."
   ]
  },
  {
   "cell_type": "code",
   "execution_count": null,
   "metadata": {},
   "outputs": [],
   "source": [
    "vis.plot_data(0)"
   ]
  },
  {
   "cell_type": "markdown",
   "metadata": {},
   "source": [
    "If you want to look at the convergence of active testing, there are a couple of tools at your disposal.\n",
    "\n",
    "First, select combinations of acquisition strategy and risk estimator."
   ]
  },
  {
   "cell_type": "code",
   "execution_count": null,
   "metadata": {},
   "outputs": [],
   "source": [
    "acq_risks = [\n",
    "    ['RandomAcquisition', 'BiasedRiskEstimator'],\n",
    "    ['GPSurrogateAcquisitionMSE', 'FancyUnbiasedRiskEstimator'],\n",
    "    ['TrueLossAcquisition', 'FancyUnbiasedRiskEstimator'],\n",
    "    ]"
   ]
  },
  {
   "cell_type": "code",
   "execution_count": null,
   "metadata": {},
   "outputs": [],
   "source": [
    "vis.plot_risks_select_combinations(acq_risks)"
   ]
  },
  {
   "cell_type": "code",
   "execution_count": null,
   "metadata": {},
   "outputs": [],
   "source": [
    "fig, ax = vis.plot_log_convergence(acq_risks[:-1])\n",
    "ax.set_ylim(1e-7, 1e-2)\n",
    "ax.set_xscale('linear')\n",
    "ax.set_xlim(0, 30)"
   ]
  },
  {
   "cell_type": "markdown",
   "metadata": {},
   "source": [
    "You can also investigate the behaviour of the loss distributions (equivalent to Figure 7 in the paper)."
   ]
  },
  {
   "cell_type": "code",
   "execution_count": null,
   "metadata": {},
   "outputs": [],
   "source": [
    "acquisition = 'GPSurrogateAcquisitionMSE'\n",
    "fig, ax = vis.loss_dist(acquisition, run=0, step=0);"
   ]
  },
  {
   "cell_type": "markdown",
   "metadata": {},
   "source": [
    "And create animated gifs:"
   ]
  },
  {
   "cell_type": "code",
   "execution_count": null,
   "metadata": {},
   "outputs": [],
   "source": [
    "vis.animate_acquisition(acquisition, run=0);\n",
    "# vis.animate_loss_dist(acquisition, run=0); # does not show data"
   ]
  },
  {
   "cell_type": "markdown",
   "metadata": {},
   "source": [
    "You can also plot individual runs with"
   ]
  },
  {
   "cell_type": "code",
   "execution_count": null,
   "metadata": {},
   "outputs": [],
   "source": [
    "vis.acquisitions"
   ]
  },
  {
   "cell_type": "code",
   "execution_count": null,
   "metadata": {},
   "outputs": [],
   "source": [
    "vis.plot_all_runs('GPSurrogateAcquisitionMSE', 'FancyUnbiasedRiskEstimator', break_after=100)"
   ]
  },
  {
   "cell_type": "markdown",
   "metadata": {},
   "source": [
    "This should have introduced the vast majority of functionality. Please see the the Visualiser class itself for further methods and feel free to reach out with any questions! :) "
   ]
  }
 ],
 "metadata": {
  "kernelspec": {
   "display_name": "Python 3",
   "language": "python",
   "name": "python3"
  },
  "language_info": {
   "codemirror_mode": {
    "name": "ipython",
    "version": 3
   },
   "file_extension": ".py",
   "mimetype": "text/x-python",
   "name": "python",
   "nbconvert_exporter": "python",
   "pygments_lexer": "ipython3",
   "version": "3.8.3"
  }
 },
 "nbformat": 4,
 "nbformat_minor": 4
}
